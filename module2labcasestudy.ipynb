{
 "cells": [
  {
   "cell_type": "code",
   "execution_count": 1,
   "id": "35eb7878-beb8-40a5-bfe9-7926fb595e37",
   "metadata": {
    "scrolled": true
   },
   "outputs": [
    {
     "name": "stdout",
     "output_type": "stream",
     "text": [
      "Welcome to our app for checking to see what your GPA qualifies you for.\n",
      "Enter 'ZZZ' as a last name to quit.\n"
     ]
    },
    {
     "name": "stdout",
     "output_type": "stream",
     "text": [
      "\n",
      "Enter a student's last name:  stroud\n",
      "Enter a student's first name:  austin\n",
      "Enter a student's GPA including at least one decimal point:  3.25\n"
     ]
    },
    {
     "name": "stdout",
     "output_type": "stream",
     "text": [
      "austin stroud has made the Honor Roll!\n"
     ]
    },
    {
     "name": "stdout",
     "output_type": "stream",
     "text": [
      "\n",
      "Enter a student's last name:  brown\n",
      "Enter a student's first name:  tom \n",
      "Enter a student's GPA including at least one decimal point:  3.0 \n"
     ]
    },
    {
     "name": "stdout",
     "output_type": "stream",
     "text": [
      "Sorry, tom  brown did not make the the Dean's List or Honor Roll.\n"
     ]
    },
    {
     "name": "stdout",
     "output_type": "stream",
     "text": [
      "\n",
      "Enter a student's last name:  smith\n",
      "Enter a student's first name:  bob\n",
      "Enter a student's GPA including at least one decimal point:  3.95\n"
     ]
    },
    {
     "name": "stdout",
     "output_type": "stream",
     "text": [
      "bob smith has made the Dean's List!\n"
     ]
    },
    {
     "name": "stdout",
     "output_type": "stream",
     "text": [
      "\n",
      "Enter a student's last name:  thompson \n",
      "Enter a student's first name:  mark \n",
      "Enter a student's GPA including at least one decimal point:  3.6\n"
     ]
    },
    {
     "name": "stdout",
     "output_type": "stream",
     "text": [
      "mark  thompson  has made the Dean's List!\n"
     ]
    },
    {
     "name": "stdout",
     "output_type": "stream",
     "text": [
      "\n",
      "Enter a student's last name:  tyler \n",
      "Enter a student's first name:  nick \n",
      "Enter a student's GPA including at least one decimal point:  3.34\n"
     ]
    },
    {
     "name": "stdout",
     "output_type": "stream",
     "text": [
      "nick  tyler  has made the Honor Roll!\n"
     ]
    },
    {
     "name": "stdout",
     "output_type": "stream",
     "text": [
      "\n",
      "Enter a student's last name:  zzz\n",
      "Enter a student's first name:  test\n",
      "Enter a student's GPA including at least one decimal point:  4.0\n"
     ]
    },
    {
     "name": "stdout",
     "output_type": "stream",
     "text": [
      "test zzz has made the Dean's List!\n"
     ]
    },
    {
     "name": "stdout",
     "output_type": "stream",
     "text": [
      "\n",
      "Enter a student's last name:  ZZZ\n"
     ]
    },
    {
     "name": "stdout",
     "output_type": "stream",
     "text": [
      "\n",
      "Goodbye...\n"
     ]
    }
   ],
   "source": [
    "#Created by: Austin Stroud\n",
    "#File name: module2labcasestudy.ipynb\n",
    "#Description: This Python app will accept student names and GPAs and determine if the student qualifies for the Dean's List or the Honor Roll. \n",
    "def main():\n",
    "    #Welcome \n",
    "    print(\"Welcome to our app for checking to see what your GPA qualifies you for.\")\n",
    "    print(\"Enter 'ZZZ' as a last name to quit.\")\n",
    "\n",
    "    #The loop for entering student information.\n",
    "    while True:\n",
    "        #Input a student's last name.\n",
    "        last_name = input(\"\\nEnter a student's last name: \")\n",
    "        #Check if 'ZZZ' is entered to quit. \n",
    "        if last_name == 'ZZZ':\n",
    "            print(\"\\nGoodbye...\")\n",
    "            break  #Exit if 'ZZZ' entered for last name. \n",
    "\n",
    "        #Input a student's first name.\n",
    "        first_name = input(\"Enter a student's first name: \")\n",
    "        #Input a student's GPA and show in float format. \n",
    "        gpa = float(input(\"Enter a student's GPA including at least one decimal point: \"))\n",
    "\n",
    "        #This will check to see if a student qualifies for the Dean's List or the Honor Roll and print a message stating such or not. \n",
    "        if gpa >= 3.5:\n",
    "            print(f\"{first_name} {last_name} has made the Dean's List!\")\n",
    "        elif gpa >= 3.25:\n",
    "            print(f\"{first_name} {last_name} has made the Honor Roll!\")\n",
    "        else:\n",
    "            print(f\"Sorry, {first_name} {last_name} did not make the the Dean's List or Honor Roll.\")\n",
    "\n",
    "if __name__ == \"__main__\":\n",
    "    main()\n"
   ]
  },
  {
   "cell_type": "code",
   "execution_count": null,
   "id": "6a426f2a-ce94-45b9-8d50-548daf82fdc5",
   "metadata": {},
   "outputs": [],
   "source": []
  }
 ],
 "metadata": {
  "kernelspec": {
   "display_name": "Python 3 (ipykernel)",
   "language": "python",
   "name": "python3"
  },
  "language_info": {
   "codemirror_mode": {
    "name": "ipython",
    "version": 3
   },
   "file_extension": ".py",
   "mimetype": "text/x-python",
   "name": "python",
   "nbconvert_exporter": "python",
   "pygments_lexer": "ipython3",
   "version": "3.11.7"
  }
 },
 "nbformat": 4,
 "nbformat_minor": 5
}
